{
 "cells": [
  {
   "cell_type": "code",
   "execution_count": 2,
   "metadata": {},
   "outputs": [
    {
     "name": "stdout",
     "output_type": "stream",
     "text": [
      "\u001b[34mConnecting to --port=COM8 --baud=115200 \u001b[0m\n",
      "\u001b[31m[Timed out waiting for recognizable response]\n",
      "\u001b[0m\u001b[31mDisconnecting [paste mode not working]\n",
      "\u001b[0m\u001b[34m  (You may need to reset the device)\u001b[0m"
     ]
    }
   ],
   "source": [
    "%serialconnect --port=COM8 --baudrate=115200"
   ]
  },
  {
   "cell_type": "code",
   "execution_count": 4,
   "metadata": {},
   "outputs": [
    {
     "name": "stdout",
     "output_type": "stream",
     "text": [
      "\u001b[31mNo serial connected\n",
      "\u001b[0m  %serialconnect to connect\n",
      "  %esptool to flash the device\n",
      "  %lsmagic to list commands"
     ]
    }
   ],
   "source": [
    "from machine import I2C\n",
    "import time"
   ]
  },
  {
   "cell_type": "code",
   "execution_count": 3,
   "metadata": {},
   "outputs": [],
   "source": [
    "i2c = I2C(I2C.I2C0, freq=100000, scl=35, sda=34)"
   ]
  },
  {
   "cell_type": "code",
   "execution_count": 4,
   "metadata": {},
   "outputs": [],
   "source": [
    "i2c.writeto(0x12,bytes([int(128),int(50),int(0)]))"
   ]
  },
  {
   "cell_type": "code",
   "execution_count": null,
   "metadata": {},
   "outputs": [],
   "source": []
  },
  {
   "cell_type": "code",
   "execution_count": 5,
   "metadata": {},
   "outputs": [],
   "source": [
    "i2c.writeto(0x12,bytes([int(128),int(200),int(0)]))"
   ]
  },
  {
   "cell_type": "code",
   "execution_count": 8,
   "metadata": {},
   "outputs": [],
   "source": [
    "i2c.writeto(0x12,bytes([int(228),int(128),int(0)]))"
   ]
  },
  {
   "cell_type": "code",
   "execution_count": 9,
   "metadata": {},
   "outputs": [],
   "source": [
    "i2c.writeto(0x12,bytes([int(28),int(128),int(0)]))"
   ]
  },
  {
   "cell_type": "code",
   "execution_count": 14,
   "metadata": {},
   "outputs": [
    {
     "name": "stdout",
     "output_type": "stream",
     "text": [
      "b'\\x00\\x14'\n"
     ]
    }
   ],
   "source": [
    "import struct\n",
    "tong = struct.pack(\">H\", 20)\n",
    "print(tong)\n",
    "i2c.writeto(0x12,tong)"
   ]
  },
  {
   "cell_type": "code",
   "execution_count": 11,
   "metadata": {},
   "outputs": [
    {
     "name": "stdout",
     "output_type": "stream",
     "text": [
      "b'\\x80\\x80\\x00'\n"
     ]
    }
   ],
   "source": [
    "data = i2c.readfrom(0x12, 3)\n",
    "print(data)"
   ]
  },
  {
   "cell_type": "code",
   "execution_count": 12,
   "metadata": {},
   "outputs": [
    {
     "name": "stdout",
     "output_type": "stream",
     "text": [
      "b'\\x80\\x80\\x00'\n",
      "b'\\x80\\x80\\x00'\n",
      "b'\\x80\\x80\\x00'\n",
      "b'\\x80\\x80\\x00'\n",
      "b'\\x80\\x80\\x00'\n",
      "b'\\x80\\x80\\x00'\n",
      "b'\\x80\\x80\\x00'\n",
      "b'\\x80\\x80\\x04'\n",
      "b'\\x80\\x80\\x00'\n",
      "b'\\x80\\xe4\\x00'\n",
      "b'\\x80\\xe4\\x00'\n",
      "b'\\x80\\x1c\\x00'\n",
      "b'\\x80\\x1c\\x00'\n",
      "b'\\xe4\\x80\\x00'\n",
      "b'\\xe4\\x80\\x00'\n",
      "b'\\x1c\\x80\\x00'\n",
      "b'\\x80\\x80\\x00'\n",
      "b'\\x80\\x80\\x00'\n",
      "b'\\x80\\x80\\x00'\n",
      "b'\\x80\\x80\\x00'\n",
      "b'\\x80\\x80\\x00'\n",
      "b'\\x80\\x80\\x00'\n",
      "b'\\x80\\x80\\x00'\n",
      "b'\\x80\\x80\\x00'\n",
      "b'\\x80\\x80\\x00'\n",
      "b'\\x80\\x80\\x00'\n",
      "b'\\x80\\x80\\x00'\n",
      "b'\\x80\\x80\\x00'\n",
      "b'\\x80\\x80\\x00'\n",
      "b'\\x80\\x80\\x00'\n",
      "b'\\x80\\x80\\x00'\n",
      "b'\\x80\\x80\\x00'\n",
      "b'\\x80\\x80\\x00'\n",
      "b'\\x80\\x80\\x00'\n",
      "b'\\x80\\x80\\x00'\n",
      "\u001b[34m\n",
      "\n",
      "*** Sending Ctrl-C\n",
      "\n",
      "\u001b[0m"
     ]
    },
    {
     "name": "stderr",
     "output_type": "stream",
     "text": [
      "Traceback (most recent call last):\n",
      "  File \"<stdin>\", line 4, in <module>\n",
      "KeyboardInterrupt: \n"
     ]
    }
   ],
   "source": [
    "while 1 :\n",
    "    data = i2c.readfrom(0x12, 3)\n",
    "    print(data)\n",
    "    time.sleep(1)"
   ]
  },
  {
   "cell_type": "code",
   "execution_count": 15,
   "metadata": {},
   "outputs": [],
   "source": [
    "import uos"
   ]
  },
  {
   "cell_type": "code",
   "execution_count": 16,
   "metadata": {},
   "outputs": [
    {
     "name": "stdout",
     "output_type": "stream",
     "text": [
      "['flash', 'sd']\n"
     ]
    }
   ],
   "source": [
    "print(uos.listdir(\"/\"))"
   ]
  },
  {
   "cell_type": "code",
   "execution_count": null,
   "metadata": {},
   "outputs": [],
   "source": []
  }
 ],
 "metadata": {
  "kernelspec": {
   "display_name": "MicroPython/ESP32 - USB",
   "language": "python",
   "name": "micropython"
  },
  "language_info": {
   "codemirror_mode": "python",
   "file_extension": ".py",
   "mimetype": "text/python",
   "name": "micropython"
  }
 },
 "nbformat": 4,
 "nbformat_minor": 4
}
